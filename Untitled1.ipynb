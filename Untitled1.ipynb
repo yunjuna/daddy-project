{
 "cells": [
  {
   "cell_type": "code",
   "execution_count": 2,
   "id": "705a41b3-55d1-47ac-88d5-13cb66355466",
   "metadata": {},
   "outputs": [
    {
     "name": "stdout",
     "output_type": "stream",
     "text": [
      "Move the mouse to the desired position and press 'Enter'.\n",
      "Mouse position: Point(x=-1416, y=185)\n",
      "Mouse position: Point(x=-558, y=604)\n",
      "Mouse position: Point(x=343, y=199)\n",
      "Mouse position: Point(x=335, y=195)\n",
      "Mouse position: Point(x=335, y=195)\n",
      "Mouse position: Point(x=335, y=195)\n",
      "Mouse position: Point(x=335, y=195)\n",
      "Mouse position: Point(x=335, y=195)\n",
      "Mouse position: Point(x=335, y=195)\n",
      "Mouse position: Point(x=335, y=195)\n",
      "Mouse position: Point(x=335, y=195)\n",
      "Mouse position: Point(x=335, y=195)\n",
      "Mouse position: Point(x=335, y=195)\n",
      "Mouse position: Point(x=335, y=195)\n",
      "Mouse position: Point(x=335, y=195)\n",
      "Mouse position: Point(x=1576, y=1051)\n",
      "Mouse position: Point(x=1577, y=1038)\n",
      "Mouse position: Point(x=1577, y=1038)\n",
      "Mouse position: Point(x=1577, y=1038)\n",
      "Mouse position: Point(x=1577, y=1038)\n",
      "Mouse position: Point(x=1577, y=1038)\n",
      "Mouse position: Point(x=1577, y=1038)\n",
      "Mouse position: Point(x=1577, y=1038)\n",
      "Mouse position: Point(x=1577, y=1038)\n",
      "Mouse position: Point(x=1577, y=1038)\n",
      "Mouse position: Point(x=1577, y=1038)\n",
      "Mouse position: Point(x=1577, y=1038)\n",
      "Mouse position: Point(x=1577, y=1038)\n",
      "Mouse position: Point(x=1577, y=1038)\n",
      "Mouse position: Point(x=-1365, y=158)\n"
     ]
    },
    {
     "ename": "KeyboardInterrupt",
     "evalue": "",
     "output_type": "error",
     "traceback": [
      "\u001b[1;31m---------------------------------------------------------------------------\u001b[0m",
      "\u001b[1;31mKeyboardInterrupt\u001b[0m                         Traceback (most recent call last)",
      "Cell \u001b[1;32mIn[2], line 10\u001b[0m\n\u001b[0;32m      8\u001b[0m \u001b[38;5;28;01mif\u001b[39;00m pyautogui\u001b[38;5;241m.\u001b[39mposition():\n\u001b[0;32m      9\u001b[0m     \u001b[38;5;28mprint\u001b[39m(\u001b[38;5;124m\"\u001b[39m\u001b[38;5;124mMouse position:\u001b[39m\u001b[38;5;124m\"\u001b[39m, pyautogui\u001b[38;5;241m.\u001b[39mposition())\n\u001b[1;32m---> 10\u001b[0m     time\u001b[38;5;241m.\u001b[39msleep(\u001b[38;5;241m1\u001b[39m)\n",
      "\u001b[1;31mKeyboardInterrupt\u001b[0m: "
     ]
    }
   ],
   "source": [
    "import pyautogui\n",
    "import time\n",
    "\n",
    "print(\"Move the mouse to the desired position and press 'Enter'.\")\n",
    "\n",
    "# 기록할 마우스 좌표\n",
    "while True:\n",
    "    if pyautogui.position():\n",
    "        print(\"Mouse position:\", pyautogui.position())\n",
    "        time.sleep(1)\n"
   ]
  },
  {
   "cell_type": "code",
   "execution_count": null,
   "id": "99e544fa-2165-4fa4-bb8c-6e3057aa3da9",
   "metadata": {},
   "outputs": [],
   "source": []
  }
 ],
 "metadata": {
  "kernelspec": {
   "display_name": "Python 3 (ipykernel)",
   "language": "python",
   "name": "python3"
  },
  "language_info": {
   "codemirror_mode": {
    "name": "ipython",
    "version": 3
   },
   "file_extension": ".py",
   "mimetype": "text/x-python",
   "name": "python",
   "nbconvert_exporter": "python",
   "pygments_lexer": "ipython3",
   "version": "3.11.7"
  }
 },
 "nbformat": 4,
 "nbformat_minor": 5
}
